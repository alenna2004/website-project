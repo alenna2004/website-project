{
  "nbformat": 4,
  "nbformat_minor": 0,
  "metadata": {
    "colab": {
      "provenance": []
    },
    "kernelspec": {
      "name": "python3",
      "display_name": "Python 3"
    },
    "language_info": {
      "name": "python"
    }
  },
  "cells": [
    {
      "cell_type": "code",
      "source": [
        "pip install faker"
      ],
      "metadata": {
        "colab": {
          "base_uri": "https://localhost:8080/"
        },
        "id": "hUbs3xKR6w3K",
        "outputId": "62129229-89d3-4012-da47-83d1d39884ca"
      },
      "execution_count": null,
      "outputs": [
        {
          "output_type": "stream",
          "name": "stdout",
          "text": [
            "Collecting faker\n",
            "  Downloading Faker-33.3.0-py3-none-any.whl.metadata (15 kB)\n",
            "Requirement already satisfied: python-dateutil>=2.4 in /usr/local/lib/python3.10/dist-packages (from faker) (2.8.2)\n",
            "Requirement already satisfied: typing-extensions in /usr/local/lib/python3.10/dist-packages (from faker) (4.12.2)\n",
            "Requirement already satisfied: six>=1.5 in /usr/local/lib/python3.10/dist-packages (from python-dateutil>=2.4->faker) (1.17.0)\n",
            "Downloading Faker-33.3.0-py3-none-any.whl (1.9 MB)\n",
            "\u001b[2K   \u001b[90m━━━━━━━━━━━━━━━━━━━━━━━━━━━━━━━━━━━━━━━━\u001b[0m \u001b[32m1.9/1.9 MB\u001b[0m \u001b[31m25.8 MB/s\u001b[0m eta \u001b[36m0:00:00\u001b[0m\n",
            "\u001b[?25hInstalling collected packages: faker\n",
            "Successfully installed faker-33.3.0\n"
          ]
        }
      ]
    },
    {
      "cell_type": "code",
      "source": [
        "from faker import Faker\n",
        "import random\n",
        "import csv\n",
        "import datetime\n",
        "\n",
        "fake = Faker('ru_RU')"
      ],
      "metadata": {
        "id": "F6Za3JQUd4Sq"
      },
      "execution_count": null,
      "outputs": []
    },
    {
      "cell_type": "code",
      "execution_count": null,
      "metadata": {
        "id": "tahLN5oF6tYy"
      },
      "outputs": [],
      "source": [
        "\n",
        "def client_data():\n",
        "    with open('client.csv', mode='w', newline='') as file:\n",
        "        writer = csv.writer(file)\n",
        "        for i in range(1, 100):\n",
        "            name = fake.name().split()\n",
        "            c_name= name[1]\n",
        "            surname= name[2]\n",
        "            email= fake.email()\n",
        "            login = email.split('@')[0]+ str(fake.unique.random_int(min=1, max = 10000))\n",
        "            password = fake.password()\n",
        "            phone_num= f'+7{fake.msisdn()[3:]}'\n",
        "            passport = fake.unique.random_int(min=1000000000, max = 9999999999)\n",
        "            data = [i, c_name, surname, login, password, phone_num, email, passport]\n",
        "            writer.writerow(data)\n",
        "client_data()"
      ]
    },
    {
      "cell_type": "code",
      "source": [],
      "metadata": {
        "id": "cD1c2S4ps8PB"
      },
      "execution_count": null,
      "outputs": []
    },
    {
      "cell_type": "code",
      "source": [
        "\n",
        "def client_data():\n",
        "    with open('client.csv', mode='w', newline='') as file:\n",
        "        writer = csv.writer(file)\n",
        "        for i in range(100, 201):\n",
        "            name = fake.name().split()\n",
        "            c_name= name[1]\n",
        "            surname= name[2]\n",
        "            email= fake.email()\n",
        "            login = email.split('@')[0]+ str(fake.unique.random_int(min=1, max = 10000))\n",
        "            password = fake.password()\n",
        "            phone_num= f'+7{fake.msisdn()[3:]}'\n",
        "            passport = None\n",
        "            data = [i, c_name, surname, login, password, phone_num, email, passport]\n",
        "            writer.writerow(data)\n",
        "client_data()"
      ],
      "metadata": {
        "id": "0dd3NhUnsw7u"
      },
      "execution_count": null,
      "outputs": []
    },
    {
      "cell_type": "code",
      "source": [
        "def worker_data():\n",
        "    roles = ['администратор','менеджер','банкир', 'старший менеджер', 'старший банкир','менеджер','банкир', 'старший менеджер', 'старший банкир']\n",
        "    with open('worker.csv', mode='w', newline='') as file:\n",
        "        writer = csv.writer(file)\n",
        "        for i in range(1,22):\n",
        "            name = fake.name().split()\n",
        "            c_name= name[1]\n",
        "            surname= name[2]\n",
        "            email= fake.email()\n",
        "            login = email.split('@')[0]+ str(fake.unique.random_int(min=1, max = 10000))\n",
        "            password = fake.password()\n",
        "            phone_num= f'+7{fake.msisdn()[3:]}'\n",
        "            role = random.choice(roles)\n",
        "            data = [i, c_name, surname, login, password, phone_num, email, role]\n",
        "            writer.writerow(data)\n",
        "worker_data()"
      ],
      "metadata": {
        "id": "sPdTtEsS9oq1"
      },
      "execution_count": null,
      "outputs": []
    },
    {
      "cell_type": "code",
      "source": [
        "def places_data():\n",
        "    places = ['МифБанкКредит', 'ООО Мифическая Биржа', 'Стратап \"Изучение абстрактного коня в вакууме\"',\n",
        "              'ИП Чай с наночаинками ', 'АО Нанокомпьютеры и нанопрограммисты ']\n",
        "    with open('places.csv', mode='w', newline='') as file:\n",
        "        writer = csv.writer(file)\n",
        "        for i in range(len(places)):\n",
        "            data = [i+1, places[i]]\n",
        "            writer.writerow(data)\n",
        "places_data()"
      ],
      "metadata": {
        "id": "n5_2_-6l9zic"
      },
      "execution_count": null,
      "outputs": []
    },
    {
      "cell_type": "code",
      "source": [
        "from itertools import combinations, product\n",
        "\n",
        "def pairs(*lists):\n",
        "    for t in combinations(lists, 2):\n",
        "        for pair in product(*t):\n",
        "            yield pair\n",
        "words = ['супер','выгодный', 'надежный', 'срочный','оптимальный',\n",
        "             'прибыльный', 'беспроигрышный', 'экономный',' удобный',\n",
        "             'устойчивый', 'хозяйственный', 'удачный']\n",
        "word_pairs = []\n",
        "for pair in pairs(words, words):\n",
        "    if pair[0] != pair[1]:\n",
        "        word_pairs.append(pair)"
      ],
      "metadata": {
        "id": "weSRCp7t3efD"
      },
      "execution_count": null,
      "outputs": []
    },
    {
      "cell_type": "code",
      "source": [
        "\n",
        "def deposit_data():\n",
        "    words = ['супер','выгодный', 'надежный', 'срочный','оптимальный',\n",
        "             'прибыльный', 'беспроигрышный', 'экономный',' удобный',\n",
        "             'устойчивый', 'хозяйственный', 'удачный']\n",
        "    a = [0,1]\n",
        "    w_pairs = random.sample(word_pairs, 50)\n",
        "    with open('deposit.csv', mode='w', newline='') as file:\n",
        "        writer = csv.writer(file)\n",
        "        for i in range(1,51):\n",
        "            adj = w_pairs[i-1]\n",
        "            name = adj[0] +' '+ adj[1] + ' вклад'\n",
        "            currency = fake.currency()[0]\n",
        "            formula = random.choice(a)\n",
        "            year_per_cent = round(fake.pyfloat(min_value=0.001, max_value=0.9), 3)\n",
        "            duration = fake.random_int(min = 3, max = 60)\n",
        "            min_start_amount =  fake.random_int(min = 0, max = 100000)\n",
        "            fee = round(fake.pyfloat(min_value=0, max_value=0.9), 3)\n",
        "            begin_date = fake.date_between_dates(date_start=datetime.date(2024, 9, 1), date_end=datetime.date(2024, 12, 1))\n",
        "            end_date = fake.date_between_dates(date_start=begin_date+datetime.timedelta(days=30), date_end=begin_date+datetime.timedelta(days=365))\n",
        "            data = [i, name, currency,  formula, year_per_cent, duration,\n",
        "                    min_start_amount, fee, begin_date, end_date]\n",
        "            writer.writerow(data)\n",
        "deposit_data()"
      ],
      "metadata": {
        "id": "gRKBoYwAqzus"
      },
      "execution_count": null,
      "outputs": []
    },
    {
      "cell_type": "code",
      "source": [
        "import pandas as pd\n",
        "deposits = pd.read_csv('deposit (2).csv', header = None)"
      ],
      "metadata": {
        "id": "st9txCm5wZS-"
      },
      "execution_count": null,
      "outputs": []
    },
    {
      "cell_type": "code",
      "source": [
        "clients = pd.read_csv('client.csv', header = None)\n"
      ],
      "metadata": {
        "id": "OMHZgOYWpybM"
      },
      "execution_count": null,
      "outputs": []
    },
    {
      "cell_type": "code",
      "source": [
        "deposits_min_sum[0]"
      ],
      "metadata": {
        "colab": {
          "base_uri": "https://localhost:8080/"
        },
        "id": "bpdlPfRHysgm",
        "outputId": "8abf3782-239f-4806-db80-ef56e7b6e765"
      },
      "execution_count": null,
      "outputs": [
        {
          "output_type": "execute_result",
          "data": {
            "text/plain": [
              "29941"
            ]
          },
          "metadata": {},
          "execution_count": 22
        }
      ]
    },
    {
      "cell_type": "code",
      "source": [
        "client_ids=clients.loc[:,0]\n",
        "deposit_ids = deposits.loc[:,0]\n",
        "deposits_min_sum = deposits.loc[:,7]\n",
        "deposits_start_date = deposits.loc[:,9]\n",
        "deposits_end_date = deposits.loc[:,10]\n",
        "def client_deposit():\n",
        "    with open('client_deposiit.csv', mode='w', newline='') as file:\n",
        "        writer = csv.writer(file)\n",
        "        for i in range(1,101):\n",
        "            client_id = random.choice(client_ids)\n",
        "            deposit_id = random.choice(deposit_ids)\n",
        "            today = datetime.datetime.today().date()\n",
        "            end_date = datetime.datetime.strptime(deposits_end_date[deposit_id-1], \"%Y-%m-%d\").date()\n",
        "            start_date = datetime.datetime.strptime(deposits_start_date[deposit_id-1], \"%Y-%m-%d\").date()\n",
        "            last_date = min(today, end_date)\n",
        "            opening_date = fake.date_between_dates(date_start=start_date, date_end=last_date)\n",
        "            money = fake.random_int(min = int(deposits_min_sum[deposit_id-1]), max =1000000000)\n",
        "            data = [i, client_id, deposit_id, opening_date, money]\n",
        "            writer.writerow(data)\n",
        "client_deposit()"
      ],
      "metadata": {
        "id": "GpmeuWOpsRoD"
      },
      "execution_count": null,
      "outputs": []
    },
    {
      "cell_type": "code",
      "source": [
        "themes = [\"Вклады\", \"Пополнение счета\",\"Перевод денег\",\"Ошибки на сайте\",\"Пасаортные данные\",\"Закрытие вклада\"]\n",
        "bools = [1, 0]\n",
        "def question():\n",
        "    with open('question.csv', mode='w', newline='') as file:\n",
        "        writer = csv.writer(file)\n",
        "        for i in range(1,51):\n",
        "            question = fake.text()\n",
        "            theme = random.choice(themes)\n",
        "            client = fake.random_int(min = 1, max =200)\n",
        "            status = random.choice(bools)\n",
        "            data = [i, theme, question, client, status]\n",
        "            writer.writerow(data)\n",
        "question()"
      ],
      "metadata": {
        "id": "swS1FcR4zmfv"
      },
      "execution_count": null,
      "outputs": []
    },
    {
      "cell_type": "code",
      "source": [
        "answered= pd.read_csv('answered.csv')"
      ],
      "metadata": {
        "id": "LFd8Qcly0NVm"
      },
      "execution_count": null,
      "outputs": []
    },
    {
      "cell_type": "code",
      "source": [
        "answ_ids = answered.loc[:,'question_id']\n",
        "def answer():\n",
        "    with open('answer.csv', mode='w', newline='') as file:\n",
        "        writer = csv.writer(file)\n",
        "        for i in range(len(answ_ids)):\n",
        "            answer = fake.text()\n",
        "            worker_id = fake.random_int(min = 1, max =21)\n",
        "            data = [i+1, answ_ids[i], worker_id, answer]\n",
        "            writer.writerow(data)\n",
        "answer()"
      ],
      "metadata": {
        "id": "gmq6Xyyz38fs"
      },
      "execution_count": null,
      "outputs": []
    },
    {
      "cell_type": "code",
      "source": [
        "import pandas as pd\n",
        "deposits_1 = pd.read_csv('client_deposit (4).csv')"
      ],
      "metadata": {
        "id": "qnH8jQXbtSFu"
      },
      "execution_count": null,
      "outputs": []
    },
    {
      "cell_type": "code",
      "source": [
        "from dateutil.relativedelta import relativedelta\n",
        "from datetime import datetime\n",
        "def oper():\n",
        "    with open('operation.csv', mode='w', newline='') as file:\n",
        "        writer = csv.writer(file)\n",
        "        counter =1\n",
        "        for i in range(len(deposits_1)):\n",
        "            dep_id = deposits_1.loc[i]\n",
        "            amount = dep_id['money_amount']\n",
        "            per_cent = dep_id['per_cent']\n",
        "            date_1= datetime.strptime(dep_id['opening_date'], \"%Y-%m-%d\").date()\n",
        "            today = datetime.today().date()\n",
        "            months_diff = relativedelta(today, date_1).months\n",
        "            for j in range(months_diff):\n",
        "                add = amount*per_cent\n",
        "                amount = amount +add\n",
        "                data = [counter, deposits_1.loc[i]['client_deposit_id'], \"+\", add]\n",
        "                writer.writerow(data)\n",
        "                counter+=1\n",
        "oper()"
      ],
      "metadata": {
        "id": "-VXpUTZiyBBu"
      },
      "execution_count": null,
      "outputs": []
    },
    {
      "cell_type": "code",
      "source": [
        "deposits_ids = [i for i in range(1,101)]\n",
        "places_ids = [i for i in range(1,6)]"
      ],
      "metadata": {
        "id": "Cg5xoDHeWaxf"
      },
      "execution_count": null,
      "outputs": []
    },
    {
      "cell_type": "code",
      "source": [
        "def in_work():\n",
        "    with open('in_work.csv', mode='w', newline='') as file:\n",
        "        writer = csv.writer(file)\n",
        "        for i in range(50):\n",
        "            worker_id = fake.random_int(min = 1, max =21)\n",
        "            dep_id = deposits_ids[i]\n",
        "            place = fake.random_int(min = 1, max =5)\n",
        "            data = [i+1, worker_id, dep_id, place]\n",
        "            writer.writerow(data)\n",
        "in_work()"
      ],
      "metadata": {
        "id": "rBQa1VlnWNnE"
      },
      "execution_count": null,
      "outputs": []
    }
  ]
}